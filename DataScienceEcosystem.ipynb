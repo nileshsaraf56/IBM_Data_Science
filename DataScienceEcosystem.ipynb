{
  "metadata": {
    "kernelspec": {
      "name": "python",
      "display_name": "Python (Pyodide)",
      "language": "python"
    },
    "language_info": {
      "codemirror_mode": {
        "name": "python",
        "version": 3
      },
      "file_extension": ".py",
      "mimetype": "text/x-python",
      "name": "python",
      "nbconvert_exporter": "python",
      "pygments_lexer": "ipython3",
      "version": "3.8"
    }
  },
  "nbformat_minor": 5,
  "nbformat": 4,
  "cells": [
    {
      "id": "bec60009-5f2e-4414-a7ba-e50700573041",
      "cell_type": "markdown",
      "source": "# Data Science Tools and Ecosystem",
      "metadata": {}
    },
    {
      "id": "acd600f0-ce1b-4716-bc95-6d2d46c17753",
      "cell_type": "markdown",
      "source": "### In this notebook, Data Science Tools and Ecosystem are summarized.",
      "metadata": {}
    },
    {
      "id": "c4e66dcb-0111-49e2-882e-d1de60cd9c86",
      "cell_type": "markdown",
      "source": "**Objectives:**\n\n- List popular languages for Data Science\n- List commonly used libraries for Data Science\n- List some Data Science tools in a table format\n- Evaluate a couple of arithmetic expressions in Python",
      "metadata": {}
    },
    {
      "id": "fd4710f3-3059-46ad-b015-0f010866d8d0",
      "cell_type": "markdown",
      "source": "#### Some of the popular languages that Data Scientists use are:\n\n1. Python\n2. R\n3. Julia\n4. SQL\n5. JavaScript",
      "metadata": {}
    },
    {
      "id": "55e1483c-e427-49be-b93b-2743513aa1d2",
      "cell_type": "markdown",
      "source": "#### Some of the commonly used libraries used by Data Scientists include:\n\n1. NumPy\n2. Scikit-Learn\n3. Matplotlib\n4. Seaborn\n5. Plotly",
      "metadata": {}
    },
    {
      "id": "2e173cb6-b570-40ca-be53-f3499cdd5f4b",
      "cell_type": "markdown",
      "source": "|Data Science Tools|\n|-----|\n|Jupyter Notebook|\n|Apache Spark|\n|Apache Hadoop|",
      "metadata": {}
    },
    {
      "id": "ed8a6308-9894-40d5-8861-5dccd5e6ddd2",
      "cell_type": "markdown",
      "source": "### Below are a few examples of evaluating arithmetic expressions in Python",
      "metadata": {}
    },
    {
      "id": "1b7c5e76-37e4-40bf-911e-43bbdf8c7502",
      "cell_type": "code",
      "source": "# This is a simple arithmetic expression to multiply then add numbers\n\n(3*4)+5",
      "metadata": {
        "trusted": true
      },
      "outputs": [
        {
          "execution_count": 1,
          "output_type": "execute_result",
          "data": {
            "text/plain": "17"
          },
          "metadata": {}
        }
      ],
      "execution_count": 1
    },
    {
      "id": "9f67663c-6d3d-4a36-921a-2a5957650b20",
      "cell_type": "code",
      "source": "# This will convert 200 minutes to hours by dividing by 60\n\nhour=200/60\nprint(hour,\"hours\")",
      "metadata": {
        "trusted": true
      },
      "outputs": [
        {
          "name": "stdout",
          "output_type": "stream",
          "text": "3.3333333333333335 hours\n"
        }
      ],
      "execution_count": 2
    },
    {
      "id": "d0e47e81-b53c-47b8-8e8b-5ee34f79ea69",
      "cell_type": "markdown",
      "source": "## Author\nNilesh Saraf",
      "metadata": {}
    }
  ]
}